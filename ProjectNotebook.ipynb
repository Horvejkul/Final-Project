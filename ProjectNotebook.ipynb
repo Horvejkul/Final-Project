{
 "cells": [
  {
   "cell_type": "markdown",
   "metadata": {},
   "source": [
    "# Project Description"
   ]
  },
  {
   "cell_type": "markdown",
   "metadata": {},
   "source": [
    "Collect a data set of exchange programs from the homepage of Waseda University and store it into a csv file.\n",
    "Analyze the data set by making bar charts to illustrate the number of exchange programs by languages and program types."
   ]
  },
  {
   "cell_type": "markdown",
   "metadata": {},
   "source": [
    "## Project Code\n"
   ]
  },
  {
   "cell_type": "code",
   "execution_count": 1,
   "metadata": {},
   "outputs": [],
   "source": [
    "from my_module.functions import web_scrape, writecsv, scicom,readcsv\n",
    "from my_module.classes import AllPages"
   ]
  },
  {
   "cell_type": "code",
   "execution_count": 2,
   "metadata": {
    "scrolled": true
   },
   "outputs": [
    {
     "name": "stderr",
     "output_type": "stream",
     "text": [
      "/Users/Irene/anaconda3/lib/python3.7/site-packages/urllib3/connectionpool.py:857: InsecureRequestWarning: Unverified HTTPS request is being made. Adding certificate verification is strongly advised. See: https://urllib3.readthedocs.io/en/latest/advanced-usage.html#ssl-warnings\n",
      "  InsecureRequestWarning)\n"
     ]
    },
    {
     "name": "stdout",
     "output_type": "stream",
     "text": [
      "page title in Japanese: 早稲田大学 留学センター\n",
      "page title in English: Waseda University Center for international education\n",
      "                                    school name program language program type\n",
      "0                   Ateneo de Manila University          English         EX-R\n",
      "1       Beijing Language and Culture University          Chinese         EX-L\n",
      "2                     Beijing Normal University          English         EX-R\n",
      "3                     Beijing Normal University          Chinese         EX-R\n",
      "4                         Chiang Mai University          English         EX-R\n",
      "5                         Chiang Mai University             Thai         EX-R\n",
      "6    China University Political Science and Law          Chinese         EX-R\n",
      "7                   Chonbuk National University           Korean         EX-R\n",
      "8                          Chongqing University          Chinese         EX-R\n",
      "9                          Chongqing University          Chinese         EX-L\n",
      "10                            Chosun University           Korean         EX-R\n",
      "11                            Chosun University           Korean         EX-L\n",
      "12                     Chulalongkorn University          English         EX-R\n",
      "13              Chung Yuan Christian University          English         EX-R\n",
      "14              Chung Yuan Christian University          Chinese         EX-R \n",
      "\n",
      "\n",
      " Counter({' EX-R': 12, ' EX-L': 3}) \n",
      " Counter({' Chinese': 6, ' English': 5, ' Korean': 3, ' Thai': 1}) \n",
      "\n"
     ]
    }
   ],
   "source": [
    "page1=AllPages('https://www.waseda.jp/inst/cie/from-waseda/abroad/programlist/list')\n",
    "web_scrape(page1)\n",
    "writecsv(page1)\n",
    "scicom(page1)"
   ]
  },
  {
   "cell_type": "code",
   "execution_count": 3,
   "metadata": {
    "scrolled": true
   },
   "outputs": [
    {
     "name": "stderr",
     "output_type": "stream",
     "text": [
      "/Users/Irene/anaconda3/lib/python3.7/site-packages/urllib3/connectionpool.py:857: InsecureRequestWarning: Unverified HTTPS request is being made. Adding certificate verification is strongly advised. See: https://urllib3.readthedocs.io/en/latest/advanced-usage.html#ssl-warnings\n",
      "  InsecureRequestWarning)\n"
     ]
    },
    {
     "name": "stdout",
     "output_type": "stream",
     "text": [
      "page title in Japanese: 早稲田大学 留学センター\n",
      "page title in English: Waseda University Center for international education\n",
      "                              school name program language program type\n",
      "0            City University of Hong Kong          English         EX-R\n",
      "1                        Daegu University           Korean         EX-R\n",
      "2                        Daegu University           Korean         EX-L\n",
      "3                     Dong-Eui University           Korean         EX-R\n",
      "4                     Dong-Eui University           Korean         EX-L\n",
      "5            East China Normal University          Chinese         EX-R\n",
      "6            East China Normal University          Chinese         EX-L\n",
      "7                  Ewha Womans University          English         EX-R\n",
      "8                Foreign Trade University          English         EX-R\n",
      "9                Foreign Trade University       Vietnamese         EX-R\n",
      "10                 Gadjah Mada University          English         EX-R\n",
      "11   Hankuk University of Foreign Studies          English         EX-R\n",
      "12   Hankuk University of Foreign Studies           Korean         EX-R\n",
      "13   Hankuk University of Foreign Studies           Korean         EX-L\n",
      "14                     Hanyang University          English         EX-R \n",
      "\n",
      "\n",
      " Counter({' EX-R': 11, ' EX-L': 4}) \n",
      " Counter({' English': 6, ' Korean': 6, ' Chinese': 2, ' Vietnamese': 1}) \n",
      "\n"
     ]
    }
   ],
   "source": [
    "page2=AllPages('https://www.waseda.jp/inst/cie/from-waseda/abroad/programlist/list?pg=2')\n",
    "web_scrape(page2)\n",
    "writecsv(page2)\n",
    "scicom(page2)"
   ]
  },
  {
   "cell_type": "code",
   "execution_count": 4,
   "metadata": {},
   "outputs": [
    {
     "name": "stderr",
     "output_type": "stream",
     "text": [
      "/Users/Irene/anaconda3/lib/python3.7/site-packages/urllib3/connectionpool.py:857: InsecureRequestWarning: Unverified HTTPS request is being made. Adding certificate verification is strongly advised. See: https://urllib3.readthedocs.io/en/latest/advanced-usage.html#ssl-warnings\n",
      "  InsecureRequestWarning)\n"
     ]
    },
    {
     "name": "stdout",
     "output_type": "stream",
     "text": [
      "page title in Japanese: 早稲田大学 留学センター\n",
      "page title in English: Waseda University Center for international education\n",
      "                                          school name program language  \\\n",
      "0                                  Hanyang University           Korean   \n",
      "1                                  Hanyang University           Korean   \n",
      "2                                     Inha University          English   \n",
      "3                                     Inha University           Korean   \n",
      "4                     Institute of Technology Bandung          English   \n",
      "5                         Kangwon National University          English   \n",
      "6                         Kangwon National University           Korean   \n",
      "7    Korea Advanced Institute of Science and Techn...          English   \n",
      "8    Korea Advanced Institute of Science and Techn...           Korean   \n",
      "9                                    Korea University          English   \n",
      "10                                   Korea University           Korean   \n",
      "11                                 Lingnan University          English   \n",
      "12                                 Mahidol University          English   \n",
      "13                                 Nanjing University          Chinese   \n",
      "14                   Nanyang Technological University          English   \n",
      "\n",
      "   program type  \n",
      "0          EX-R  \n",
      "1          EX-L  \n",
      "2          EX-R  \n",
      "3          EX-R  \n",
      "4          EX-R  \n",
      "5          EX-R  \n",
      "6          EX-R  \n",
      "7          EX-R  \n",
      "8          EX-R  \n",
      "9          EX-R  \n",
      "10         EX-R  \n",
      "11         EX-R  \n",
      "12         EX-R  \n",
      "13         EX-R  \n",
      "14         EX-R   \n",
      "\n",
      "\n",
      " Counter({' EX-R': 14, ' EX-L': 1}) \n",
      " Counter({' English': 8, ' Korean': 6, ' Chinese': 1}) \n",
      "\n"
     ]
    }
   ],
   "source": [
    "page3=AllPages('https://www.waseda.jp/inst/cie/from-waseda/abroad/programlist/list?pg=3')\n",
    "web_scrape(page3)\n",
    "writecsv(page3)\n",
    "scicom(page3)"
   ]
  },
  {
   "cell_type": "code",
   "execution_count": 5,
   "metadata": {},
   "outputs": [
    {
     "name": "stdout",
     "output_type": "stream",
     "text": [
      "           Waseda University -- exchange programs\n",
      "\n"
     ]
    },
    {
     "data": {
      "image/png": "[encoded data removed]",
      "text/plain": [
       "<Figure size 432x288 with 1 Axes>"
      ]
     },
     "metadata": {
      "needs_background": "light"
     },
     "output_type": "display_data"
    },
    {
     "name": "stdout",
     "output_type": "stream",
     "text": [
      "           The number of exchange programs by language\n"
     ]
    },
    {
     "data": {
      "image/png": "[encoded data removed]",
      "text/plain": [
       "<Figure size 432x288 with 1 Axes>"
      ]
     },
     "metadata": {
      "needs_background": "light"
     },
     "output_type": "display_data"
    },
    {
     "name": "stdout",
     "output_type": "stream",
     "text": [
      "           The number of exchange programs by program type\n"
     ]
    }
   ],
   "source": [
    "readcsv(page3)"
   ]
  }
 ],
 "metadata": {
  "kernelspec": {
   "display_name": "Python 3",
   "language": "python",
   "name": "python3"
  },
  "language_info": {
   "codemirror_mode": {
    "name": "ipython",
    "version": 3
   },
   "file_extension": ".py",
   "mimetype": "text/x-python",
   "name": "python",
   "nbconvert_exporter": "python",
   "pygments_lexer": "ipython3",
   "version": "3.7.0"
  }
 },
 "nbformat": 4,
 "nbformat_minor": 2
}
